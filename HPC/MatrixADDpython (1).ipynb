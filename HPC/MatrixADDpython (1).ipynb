{
  "nbformat": 4,
  "nbformat_minor": 0,
  "metadata": {
    "colab": {
      "provenance": [],
      "gpuType": "T4"
    },
    "kernelspec": {
      "name": "python3",
      "display_name": "Python 3"
    },
    "language_info": {
      "name": "python"
    },
    "accelerator": "GPU"
  },
  "cells": [
    {
      "cell_type": "code",
      "execution_count": 2,
      "metadata": {
        "id": "Sz3wFQ5U23zb"
      },
      "outputs": [],
      "source": [
        "\n",
        "import numpy as np\n",
        "from numba import cuda"
      ]
    },
    {
      "cell_type": "code",
      "source": [
        "@cuda.jit\n",
        "def vector_add(a, b, c):\n",
        "    tid = cuda.grid(1)\n",
        "    if tid < len(a):\n",
        "        c[tid] = a[tid] + b[tid]\n"
      ],
      "metadata": {
        "id": "B_OtFzu03Dki"
      },
      "execution_count": 4,
      "outputs": []
    },
    {
      "cell_type": "code",
      "source": [
        "size = int(input(\"Enter the size of the vectors: \"))\n",
        "a = np.arange(size)\n",
        "b = 2 * np.arange(size)\n",
        "c = np.zeros(size)\n",
        "\n",
        "threads_per_block = 256\n",
        "blocks_per_grid = (size + threads_per_block - 1) // threads_per_block\n",
        "\n",
        "vector_add[blocks_per_grid, threads_per_block](a, b, c)\n",
        "\n",
        "print(\"Result vector:\")\n",
        "print(c)\n",
        "     "
      ],
      "metadata": {
        "colab": {
          "base_uri": "https://localhost:8080/"
        },
        "id": "L587IPv93DnE",
        "outputId": "9b236b84-a6ab-43cb-f78b-a29f6a236c7c"
      },
      "execution_count": 5,
      "outputs": [
        {
          "name": "stdout",
          "output_type": "stream",
          "text": [
            "Enter the size of the vectors: 12\n"
          ]
        },
        {
          "output_type": "stream",
          "name": "stderr",
          "text": [
            "/usr/local/lib/python3.10/dist-packages/numba/cuda/dispatcher.py:488: NumbaPerformanceWarning: Grid size 1 will likely result in GPU under-utilization due to low occupancy.\n",
            "  warn(NumbaPerformanceWarning(msg))\n"
          ]
        },
        {
          "output_type": "stream",
          "name": "stdout",
          "text": [
            "Result vector:\n",
            "[ 0.  3.  6.  9. 12. 15. 18. 21. 24. 27. 30. 33.]\n"
          ]
        },
        {
          "output_type": "stream",
          "name": "stderr",
          "text": [
            "/usr/local/lib/python3.10/dist-packages/numba/cuda/cudadrv/devicearray.py:885: NumbaPerformanceWarning: Host array used in CUDA kernel will incur copy overhead to/from device.\n",
            "  warn(NumbaPerformanceWarning(msg))\n"
          ]
        }
      ]
    },
    {
      "cell_type": "code",
      "source": [
        "# The code uses the NumPy library and the Numba package with CUDA support to perform vector addition on the GPU.\n",
        "# It defines a function called vector_add decorated with @cuda.jit to indicate that it will be executed on the GPU.\n",
        "# The function takes three input arrays a, b, and c as arguments, representing the vectors to be added and the resulting vector.\n",
        "# Inside the function, each thread is assigned a unique thread identifier (tid) using cuda.grid(1).\n",
        "# The function checks if the thread identifier is within the valid range (tid < len(a)) to ensure it does not exceed the vector size.\n",
        "# If the condition is satisfied, the thread performs the vector addition by adding the corresponding elements of a and b and stores the result in c.\n",
        "# The code calculates the number of threads per block (threads_per_block) and the number of blocks in the grid (blocks_per_grid) based on the vector size and the desired block size.\n",
        "# It then launches the vector_add function on the GPU, specifying the grid and block dimensions.\n",
        "# After the GPU execution is completed, the resulting vector c is printed to the console.\n",
        "# The user is prompted to enter the size of the vectors, which determines the number of elements in the vectors.\n",
        "# In summary, this code uses CUDA and Numba to perform vector addition on the GPU. It launches a kernel function (vector_add) on the GPU, where each thread performs the addition of corresponding elements from two input vectors. The resulting vector is stored in the c array and printed to the console. The code enables parallel execution on the GPU to accelerate vector addition operations.\n",
        "\n"
      ],
      "metadata": {
        "id": "lIWgbNDS3DrX"
      },
      "execution_count": 8,
      "outputs": []
    },
    {
      "cell_type": "code",
      "source": [],
      "metadata": {
        "id": "9qbROLtx3Dv-"
      },
      "execution_count": null,
      "outputs": []
    },
    {
      "cell_type": "code",
      "source": [],
      "metadata": {
        "id": "TCWVPxLD3DyU"
      },
      "execution_count": null,
      "outputs": []
    }
  ]
}